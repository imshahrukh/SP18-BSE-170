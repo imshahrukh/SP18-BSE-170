{
 "cells": [
  {
   "cell_type": "code",
   "execution_count": 4,
   "metadata": {},
   "outputs": [
    {
     "ename": "AttributeError",
     "evalue": "module 'cv2.cv2' has no attribute 'face'",
     "output_type": "error",
     "traceback": [
      "\u001b[1;31m---------------------------------------------------------------------------\u001b[0m",
      "\u001b[1;31mAttributeError\u001b[0m                            Traceback (most recent call last)",
      "\u001b[1;32m<ipython-input-4-e59b5aed3d25>\u001b[0m in \u001b[0;36m<module>\u001b[1;34m\u001b[0m\n\u001b[0;32m      9\u001b[0m \u001b[0mpath\u001b[0m \u001b[1;33m=\u001b[0m \u001b[1;34m'dataset'\u001b[0m\u001b[1;33m\u001b[0m\u001b[1;33m\u001b[0m\u001b[0m\n\u001b[0;32m     10\u001b[0m \u001b[1;33m\u001b[0m\u001b[0m\n\u001b[1;32m---> 11\u001b[1;33m \u001b[0mrecognizer\u001b[0m \u001b[1;33m=\u001b[0m \u001b[0mcv2\u001b[0m\u001b[1;33m.\u001b[0m\u001b[0mface\u001b[0m\u001b[1;33m.\u001b[0m\u001b[0mLBPHFaceRecognizer_create\u001b[0m\u001b[1;33m(\u001b[0m\u001b[1;33m)\u001b[0m\u001b[1;33m\u001b[0m\u001b[1;33m\u001b[0m\u001b[0m\n\u001b[0m\u001b[0;32m     12\u001b[0m \u001b[0mdetector\u001b[0m \u001b[1;33m=\u001b[0m \u001b[0mcv2\u001b[0m\u001b[1;33m.\u001b[0m\u001b[0mCascadeClassifier\u001b[0m\u001b[1;33m(\u001b[0m\u001b[1;34m\"./Cascades/haarcascade_frontalface_default.xml\"\u001b[0m\u001b[1;33m)\u001b[0m\u001b[1;33m;\u001b[0m\u001b[1;33m\u001b[0m\u001b[1;33m\u001b[0m\u001b[0m\n\u001b[0;32m     13\u001b[0m \u001b[1;33m\u001b[0m\u001b[0m\n",
      "\u001b[1;31mAttributeError\u001b[0m: module 'cv2.cv2' has no attribute 'face'"
     ]
    }
   ],
   "source": [
    "import cv2\n",
    "import numpy as np\n",
    "from PIL import Image\n",
    "import os\n",
    "\n",
    "\n",
    "\n",
    "# Path for face image database\n",
    "path = 'dataset'\n",
    "\n",
    "recognizer = cv2.face.LBPHFaceRecognizer_create()\n",
    "detector = cv2.CascadeClassifier(\"./Cascades/haarcascade_frontalface_default.xml\");\n",
    "\n",
    "# function to get the images and label data\n",
    "def getImagesAndLabels(path):\n",
    "    for x in os.listdir('.'):\n",
    "        print (x)\n",
    "#     imagePaths = [os.path.join(path,f) for f in os.listdir(path)]     \n",
    "#     faceSamples=[]\n",
    "#     ids = []\n",
    "#     for imagePath in imagePaths:\n",
    "#         PIL_img = Image.open(imagePath).convert('L') # convert it to grayscale\n",
    "#         img_numpy = np.array(PIL_img,'uint8')\n",
    "#         id = int(os.path.split(imagePath)[-1].split(\".\")[1])\n",
    "#         faces = detector.detectMultiScale(img_numpy)\n",
    "#         for (x,y,w,h) in faces:\n",
    "#             faceSamples.append(img_numpy[y:y+h,x:x+w])\n",
    "#             ids.append(id)\n",
    "#     return faceSamples,ids\n",
    "\n",
    "getImagesAndLabels(path)\n",
    "# print (\"\\n [INFO] Training faces. It will take a few seconds. Wait ...\")\n",
    "# faces,ids = getImagesAndLabels(path)\n",
    "# recognizer.train(faces, np.array(ids))\n",
    "\n",
    "# # Save the model into trainer/trainer.yml\n",
    "# recognizer.write('trainer/trainer.yml') # recognizer.save() worked on Mac, but not on Pi\n",
    "\n",
    "# # Print the numer of faces trained and end program\n",
    "# print(\"\\n [INFO] {0} faces trained. Exiting Program\".format(len(np.unique(ids))))"
   ]
  }
 ],
 "metadata": {
  "kernelspec": {
   "display_name": "Python 3.7.4 64-bit ('base': conda)",
   "language": "python",
   "name": "python37464bitbaseconda85eb3fdaaa8c446f8e9f0153be6d75e3"
  },
  "language_info": {
   "codemirror_mode": {
    "name": "ipython",
    "version": 3
   },
   "file_extension": ".py",
   "mimetype": "text/x-python",
   "name": "python",
   "nbconvert_exporter": "python",
   "pygments_lexer": "ipython3",
   "version": "3.7.4"
  }
 },
 "nbformat": 4,
 "nbformat_minor": 2
}
